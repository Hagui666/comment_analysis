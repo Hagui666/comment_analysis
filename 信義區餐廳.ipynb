{
 "cells": [
  {
   "cell_type": "code",
   "execution_count": 2,
   "metadata": {},
   "outputs": [],
   "source": [
    "import jieba\n",
    "import jieba.analyse"
   ]
  },
  {
   "cell_type": "code",
   "execution_count": 3,
   "metadata": {},
   "outputs": [],
   "source": [
    "jieba.set_dictionary('信義區評論.txt')"
   ]
  },
  {
   "cell_type": "code",
   "execution_count": 5,
   "metadata": {},
   "outputs": [
    {
     "name": "stderr",
     "output_type": "stream",
     "text": [
      "Building prefix dict from c:\\Users\\NiuNi\\OneDrive\\桌面\\demo\\NLP_Project\\信義區評論.txt ...\n"
     ]
    },
    {
     "ename": "ValueError",
     "evalue": "invalid dictionary entry in c:\\Users\\NiuNi\\OneDrive\\桌面\\demo\\NLP_Project\\信義區評論.txt at Line 1: 回復",
     "output_type": "error",
     "traceback": [
      "\u001b[1;31m---------------------------------------------------------------------------\u001b[0m",
      "\u001b[1;31mValueError\u001b[0m                                Traceback (most recent call last)",
      "File \u001b[1;32mc:\\Users\\NiuNi\\OneDrive\\桌面\\thuai\\thu\\lib\\site-packages\\jieba\\__init__.py:79\u001b[0m, in \u001b[0;36mTokenizer.gen_pfdict\u001b[1;34m(f)\u001b[0m\n\u001b[0;32m     78\u001b[0m line \u001b[39m=\u001b[39m line\u001b[39m.\u001b[39mstrip()\u001b[39m.\u001b[39mdecode(\u001b[39m'\u001b[39m\u001b[39mutf-8\u001b[39m\u001b[39m'\u001b[39m)\n\u001b[1;32m---> 79\u001b[0m word, freq \u001b[39m=\u001b[39m line\u001b[39m.\u001b[39msplit(\u001b[39m'\u001b[39m\u001b[39m \u001b[39m\u001b[39m'\u001b[39m)[:\u001b[39m2\u001b[39m]\n\u001b[0;32m     80\u001b[0m freq \u001b[39m=\u001b[39m \u001b[39mint\u001b[39m(freq)\n",
      "\u001b[1;31mValueError\u001b[0m: not enough values to unpack (expected 2, got 1)",
      "\nDuring handling of the above exception, another exception occurred:\n",
      "\u001b[1;31mValueError\u001b[0m                                Traceback (most recent call last)",
      "\u001b[1;32mc:\\Users\\NiuNi\\OneDrive\\桌面\\demo\\NLP_Project\\信義區餐廳.ipynb Cell 3\u001b[0m in \u001b[0;36m<cell line: 5>\u001b[1;34m()\u001b[0m\n\u001b[0;32m      <a href='vscode-notebook-cell:/c%3A/Users/NiuNi/OneDrive/%E6%A1%8C%E9%9D%A2/demo/NLP_Project/%E4%BF%A1%E7%BE%A9%E5%8D%80%E9%A4%90%E5%BB%B3.ipynb#ch0000002?line=0'>1</a>\u001b[0m text \u001b[39m=\u001b[39m \u001b[39mopen\u001b[39m(\u001b[39m'\u001b[39m\u001b[39m信義區評論.txt\u001b[39m\u001b[39m'\u001b[39m)\u001b[39m.\u001b[39mread()\n\u001b[0;32m      <a href='vscode-notebook-cell:/c%3A/Users/NiuNi/OneDrive/%E6%A1%8C%E9%9D%A2/demo/NLP_Project/%E4%BF%A1%E7%BE%A9%E5%8D%80%E9%A4%90%E5%BB%B3.ipynb#ch0000002?line=2'>3</a>\u001b[0m \u001b[39m#todo 擷取文章前10大關鍵字\u001b[39;00m\n\u001b[1;32m----> <a href='vscode-notebook-cell:/c%3A/Users/NiuNi/OneDrive/%E6%A1%8C%E9%9D%A2/demo/NLP_Project/%E4%BF%A1%E7%BE%A9%E5%8D%80%E9%A4%90%E5%BB%B3.ipynb#ch0000002?line=4'>5</a>\u001b[0m tags\u001b[39m=\u001b[39m jieba\u001b[39m.\u001b[39;49manalyse\u001b[39m.\u001b[39;49mextract_tags(text, topK\u001b[39m=\u001b[39;49m\u001b[39m10\u001b[39;49m, withWeight\u001b[39m=\u001b[39;49m\u001b[39mTrue\u001b[39;49;00m)\n\u001b[0;32m      <a href='vscode-notebook-cell:/c%3A/Users/NiuNi/OneDrive/%E6%A1%8C%E9%9D%A2/demo/NLP_Project/%E4%BF%A1%E7%BE%A9%E5%8D%80%E9%A4%90%E5%BB%B3.ipynb#ch0000002?line=5'>6</a>\u001b[0m \u001b[39mfor\u001b[39;00m tag, weight \u001b[39min\u001b[39;00m tags:\n\u001b[0;32m      <a href='vscode-notebook-cell:/c%3A/Users/NiuNi/OneDrive/%E6%A1%8C%E9%9D%A2/demo/NLP_Project/%E4%BF%A1%E7%BE%A9%E5%8D%80%E9%A4%90%E5%BB%B3.ipynb#ch0000002?line=6'>7</a>\u001b[0m     \u001b[39mprint\u001b[39m(tag \u001b[39m+\u001b[39m \u001b[39m\"\u001b[39m\u001b[39m,\u001b[39m\u001b[39m\"\u001b[39m \u001b[39m+\u001b[39m \u001b[39mstr\u001b[39m(\u001b[39mint\u001b[39m(weight \u001b[39m*\u001b[39m \u001b[39m10000\u001b[39m)))\n",
      "File \u001b[1;32mc:\\Users\\NiuNi\\OneDrive\\桌面\\thuai\\thu\\lib\\site-packages\\jieba\\analyse\\tfidf.py:94\u001b[0m, in \u001b[0;36mTFIDF.extract_tags\u001b[1;34m(self, sentence, topK, withWeight, allowPOS, withFlag)\u001b[0m\n\u001b[0;32m     92\u001b[0m     words \u001b[39m=\u001b[39m \u001b[39mself\u001b[39m\u001b[39m.\u001b[39mtokenizer\u001b[39m.\u001b[39mcut(sentence)\n\u001b[0;32m     93\u001b[0m freq \u001b[39m=\u001b[39m {}\n\u001b[1;32m---> 94\u001b[0m \u001b[39mfor\u001b[39;00m w \u001b[39min\u001b[39;00m words:\n\u001b[0;32m     95\u001b[0m     \u001b[39mif\u001b[39;00m allowPOS:\n\u001b[0;32m     96\u001b[0m         \u001b[39mif\u001b[39;00m w\u001b[39m.\u001b[39mflag \u001b[39mnot\u001b[39;00m \u001b[39min\u001b[39;00m allowPOS:\n",
      "File \u001b[1;32mc:\\Users\\NiuNi\\OneDrive\\桌面\\thuai\\thu\\lib\\site-packages\\jieba\\__init__.py:325\u001b[0m, in \u001b[0;36mTokenizer.cut\u001b[1;34m(self, sentence, cut_all, HMM, use_paddle)\u001b[0m\n\u001b[0;32m    323\u001b[0m     \u001b[39mcontinue\u001b[39;00m\n\u001b[0;32m    324\u001b[0m \u001b[39mif\u001b[39;00m re_han\u001b[39m.\u001b[39mmatch(blk):\n\u001b[1;32m--> 325\u001b[0m     \u001b[39mfor\u001b[39;00m word \u001b[39min\u001b[39;00m cut_block(blk):\n\u001b[0;32m    326\u001b[0m         \u001b[39myield\u001b[39;00m word\n\u001b[0;32m    327\u001b[0m \u001b[39melse\u001b[39;00m:\n",
      "File \u001b[1;32mc:\\Users\\NiuNi\\OneDrive\\桌面\\thuai\\thu\\lib\\site-packages\\jieba\\__init__.py:250\u001b[0m, in \u001b[0;36mTokenizer.__cut_DAG\u001b[1;34m(self, sentence)\u001b[0m\n\u001b[0;32m    249\u001b[0m \u001b[39mdef\u001b[39;00m \u001b[39m__cut_DAG\u001b[39m(\u001b[39mself\u001b[39m, sentence):\n\u001b[1;32m--> 250\u001b[0m     DAG \u001b[39m=\u001b[39m \u001b[39mself\u001b[39;49m\u001b[39m.\u001b[39;49mget_DAG(sentence)\n\u001b[0;32m    251\u001b[0m     route \u001b[39m=\u001b[39m {}\n\u001b[0;32m    252\u001b[0m     \u001b[39mself\u001b[39m\u001b[39m.\u001b[39mcalc(sentence, DAG, route)\n",
      "File \u001b[1;32mc:\\Users\\NiuNi\\OneDrive\\桌面\\thuai\\thu\\lib\\site-packages\\jieba\\__init__.py:181\u001b[0m, in \u001b[0;36mTokenizer.get_DAG\u001b[1;34m(self, sentence)\u001b[0m\n\u001b[0;32m    180\u001b[0m \u001b[39mdef\u001b[39;00m \u001b[39mget_DAG\u001b[39m(\u001b[39mself\u001b[39m, sentence):\n\u001b[1;32m--> 181\u001b[0m     \u001b[39mself\u001b[39;49m\u001b[39m.\u001b[39;49mcheck_initialized()\n\u001b[0;32m    182\u001b[0m     DAG \u001b[39m=\u001b[39m {}\n\u001b[0;32m    183\u001b[0m     N \u001b[39m=\u001b[39m \u001b[39mlen\u001b[39m(sentence)\n",
      "File \u001b[1;32mc:\\Users\\NiuNi\\OneDrive\\桌面\\thuai\\thu\\lib\\site-packages\\jieba\\__init__.py:170\u001b[0m, in \u001b[0;36mTokenizer.check_initialized\u001b[1;34m(self)\u001b[0m\n\u001b[0;32m    168\u001b[0m \u001b[39mdef\u001b[39;00m \u001b[39mcheck_initialized\u001b[39m(\u001b[39mself\u001b[39m):\n\u001b[0;32m    169\u001b[0m     \u001b[39mif\u001b[39;00m \u001b[39mnot\u001b[39;00m \u001b[39mself\u001b[39m\u001b[39m.\u001b[39minitialized:\n\u001b[1;32m--> 170\u001b[0m         \u001b[39mself\u001b[39;49m\u001b[39m.\u001b[39;49minitialize()\n",
      "File \u001b[1;32mc:\\Users\\NiuNi\\OneDrive\\桌面\\thuai\\thu\\lib\\site-packages\\jieba\\__init__.py:145\u001b[0m, in \u001b[0;36mTokenizer.initialize\u001b[1;34m(self, dictionary)\u001b[0m\n\u001b[0;32m    143\u001b[0m DICT_WRITING[abs_path] \u001b[39m=\u001b[39m wlock\n\u001b[0;32m    144\u001b[0m \u001b[39mwith\u001b[39;00m wlock:\n\u001b[1;32m--> 145\u001b[0m     \u001b[39mself\u001b[39m\u001b[39m.\u001b[39mFREQ, \u001b[39mself\u001b[39m\u001b[39m.\u001b[39mtotal \u001b[39m=\u001b[39m \u001b[39mself\u001b[39;49m\u001b[39m.\u001b[39;49mgen_pfdict(\u001b[39mself\u001b[39;49m\u001b[39m.\u001b[39;49mget_dict_file())\n\u001b[0;32m    146\u001b[0m     default_logger\u001b[39m.\u001b[39mdebug(\n\u001b[0;32m    147\u001b[0m         \u001b[39m\"\u001b[39m\u001b[39mDumping model to file cache \u001b[39m\u001b[39m%s\u001b[39;00m\u001b[39m\"\u001b[39m \u001b[39m%\u001b[39m cache_file)\n\u001b[0;32m    148\u001b[0m     \u001b[39mtry\u001b[39;00m:\n\u001b[0;32m    149\u001b[0m         \u001b[39m# prevent moving across different filesystems\u001b[39;00m\n",
      "File \u001b[1;32mc:\\Users\\NiuNi\\OneDrive\\桌面\\thuai\\thu\\lib\\site-packages\\jieba\\__init__.py:88\u001b[0m, in \u001b[0;36mTokenizer.gen_pfdict\u001b[1;34m(f)\u001b[0m\n\u001b[0;32m     86\u001b[0m                 lfreq[wfrag] \u001b[39m=\u001b[39m \u001b[39m0\u001b[39m\n\u001b[0;32m     87\u001b[0m     \u001b[39mexcept\u001b[39;00m \u001b[39mValueError\u001b[39;00m:\n\u001b[1;32m---> 88\u001b[0m         \u001b[39mraise\u001b[39;00m \u001b[39mValueError\u001b[39;00m(\n\u001b[0;32m     89\u001b[0m             \u001b[39m'\u001b[39m\u001b[39minvalid dictionary entry in \u001b[39m\u001b[39m%s\u001b[39;00m\u001b[39m at Line \u001b[39m\u001b[39m%s\u001b[39;00m\u001b[39m: \u001b[39m\u001b[39m%s\u001b[39;00m\u001b[39m'\u001b[39m \u001b[39m%\u001b[39m (f_name, lineno, line))\n\u001b[0;32m     90\u001b[0m f\u001b[39m.\u001b[39mclose()\n\u001b[0;32m     91\u001b[0m \u001b[39mreturn\u001b[39;00m lfreq, ltotal\n",
      "\u001b[1;31mValueError\u001b[0m: invalid dictionary entry in c:\\Users\\NiuNi\\OneDrive\\桌面\\demo\\NLP_Project\\信義區評論.txt at Line 1: 回復"
     ]
    }
   ],
   "source": [
    "text = open('信義區評論.txt').read()\n",
    "\n",
    "#todo 擷取文章前10大關鍵字\n",
    "\n",
    "tags= jieba.analyse.extract_tags(text, topK=10, withWeight=True)\n",
    "for tag, weight in tags:\n",
    "    print(tag + \",\" + str(int(weight * 10000)))"
   ]
  },
  {
   "cell_type": "code",
   "execution_count": 8,
   "metadata": {},
   "outputs": [],
   "source": [
    "from ckiptagger import WS, POS, NER"
   ]
  },
  {
   "cell_type": "code",
   "execution_count": 12,
   "metadata": {},
   "outputs": [
    {
     "ename": "NameError",
     "evalue": "name 'ws' is not defined",
     "output_type": "error",
     "traceback": [
      "\u001b[1;31m---------------------------------------------------------------------------\u001b[0m",
      "\u001b[1;31mNameError\u001b[0m                                 Traceback (most recent call last)",
      "\u001b[1;32mc:\\Users\\NiuNi\\OneDrive\\桌面\\demo\\NLP_Project\\信義區餐廳.ipynb Cell 5\u001b[0m in \u001b[0;36m<cell line: 1>\u001b[1;34m()\u001b[0m\n\u001b[1;32m----> <a href='vscode-notebook-cell:/c%3A/Users/NiuNi/OneDrive/%E6%A1%8C%E9%9D%A2/demo/NLP_Project/%E4%BF%A1%E7%BE%A9%E5%8D%80%E9%A4%90%E5%BB%B3.ipynb#ch0000009?line=0'>1</a>\u001b[0m word_sentence_list \u001b[39m=\u001b[39m ws(text)\n",
      "\u001b[1;31mNameError\u001b[0m: name 'ws' is not defined"
     ]
    }
   ],
   "source": [
    "word_sentence_list = ws(text)"
   ]
  }
 ],
 "metadata": {
  "kernelspec": {
   "display_name": "Python 3.10.5 ('thu')",
   "language": "python",
   "name": "python3"
  },
  "language_info": {
   "codemirror_mode": {
    "name": "ipython",
    "version": 3
   },
   "file_extension": ".py",
   "mimetype": "text/x-python",
   "name": "python",
   "nbconvert_exporter": "python",
   "pygments_lexer": "ipython3",
   "version": "3.10.5"
  },
  "orig_nbformat": 4,
  "vscode": {
   "interpreter": {
    "hash": "f5e8fefebbf74db675ff02f151cdaed6c45d42bdb475ffae19fb2a8bcaa4d1de"
   }
  }
 },
 "nbformat": 4,
 "nbformat_minor": 2
}
